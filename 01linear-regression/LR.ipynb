{
 "cells": [
  {
   "cell_type": "markdown",
   "metadata": {},
   "source": [
    "### 1. Iris数据集\n",
    "Iris Data Set（鸢尾属植物数据集）首次出现在著名的英国统计学家和生物学家Ronald Fisher 1936年的论文《The use of multiple measurements in taxonomic problems》中，被用来介绍线性判别式分析。在这个数据集中，包括了三类不同的鸢尾属植物：Iris Setosa，Iris Versicolour，Iris Virginica。每类收集了50个样本，因此这个数据集一共包含了150个样本。"
   ]
  },
  {
   "cell_type": "markdown",
   "metadata": {},
   "source": [
    "#### 1.1 特征和样本量\n",
    "该数据集测量了所有150个样本的4个特征，分别是：\n",
    "\n",
    "- sepal length（花萼长度）\n",
    "- sepal width（花萼宽度）\n",
    "- petal length（花瓣长度）\n",
    "- petal width（花瓣宽度）\n",
    "以上四个特征的单位都是厘米（cm）。\n",
    "\n",
    "通常使用$m$表示样本量的大小，$n$表示每个样本所具有的特征数。因此在该数据集中，$m=150,n=4$"
   ]
  },
  {
   "cell_type": "markdown",
   "metadata": {},
   "source": [
    "#### 1.2 利用scikit-learn导入数据集"
   ]
  },
  {
   "cell_type": "code",
   "execution_count": 1,
   "metadata": {},
   "outputs": [
    {
     "name": "stdout",
     "output_type": "stream",
     "text": [
      "['DESCR', 'data', 'feature_names', 'filename', 'frame', 'target', 'target_names']\n"
     ]
    }
   ],
   "source": [
    "from sklearn.datasets import load_iris\n",
    "data = load_iris()\n",
    "print(dir(data))  # 查看data所具有的属性或方法"
   ]
  },
  {
   "cell_type": "code",
   "execution_count": 2,
   "metadata": {},
   "outputs": [
    {
     "name": "stdout",
     "output_type": "stream",
     "text": [
      "(150, 4)\n"
     ]
    },
    {
     "data": {
      "text/html": [
       "<div>\n",
       "<style scoped>\n",
       "    .dataframe tbody tr th:only-of-type {\n",
       "        vertical-align: middle;\n",
       "    }\n",
       "\n",
       "    .dataframe tbody tr th {\n",
       "        vertical-align: top;\n",
       "    }\n",
       "\n",
       "    .dataframe thead th {\n",
       "        text-align: right;\n",
       "    }\n",
       "</style>\n",
       "<table border=\"1\" class=\"dataframe\">\n",
       "  <thead>\n",
       "    <tr style=\"text-align: right;\">\n",
       "      <th></th>\n",
       "      <th>sepal length (cm)</th>\n",
       "      <th>sepal width (cm)</th>\n",
       "      <th>petal length (cm)</th>\n",
       "      <th>petal width (cm)</th>\n",
       "    </tr>\n",
       "  </thead>\n",
       "  <tbody>\n",
       "    <tr>\n",
       "      <th>0</th>\n",
       "      <td>5.1</td>\n",
       "      <td>3.5</td>\n",
       "      <td>1.4</td>\n",
       "      <td>0.2</td>\n",
       "    </tr>\n",
       "    <tr>\n",
       "      <th>1</th>\n",
       "      <td>4.9</td>\n",
       "      <td>3.0</td>\n",
       "      <td>1.4</td>\n",
       "      <td>0.2</td>\n",
       "    </tr>\n",
       "  </tbody>\n",
       "</table>\n",
       "</div>"
      ],
      "text/plain": [
       "   sepal length (cm)  sepal width (cm)  petal length (cm)  petal width (cm)\n",
       "0                5.1               3.5                1.4               0.2\n",
       "1                4.9               3.0                1.4               0.2"
      ]
     },
     "execution_count": 2,
     "metadata": {},
     "output_type": "execute_result"
    }
   ],
   "source": [
    "# 导入pandas包\n",
    "import pandas as pd\n",
    "#直接读到pandas的数据框中\n",
    "data_df = pd.DataFrame(data=data.data, columns=data.feature_names)\n",
    "print(data_df.shape)\n",
    "data_df.head(2)"
   ]
  },
  {
   "cell_type": "markdown",
   "metadata": {},
   "source": [
    "#### 1.3 数据的可视化展示\n",
    "仅使用花瓣的长度和宽度信息"
   ]
  },
  {
   "cell_type": "code",
   "execution_count": 3,
   "metadata": {},
   "outputs": [
    {
     "data": {
      "image/png": "[encoded data removed]",
      "text/plain": [
       "<Figure size 720x288 with 1 Axes>"
      ]
     },
     "metadata": {},
     "output_type": "display_data"
    }
   ],
   "source": [
    "import matplotlib.pyplot as plt\n",
    "import seaborn as sns\n",
    "sns.set()\n",
    "# plt.style.use('ggplot')\n",
    "\n",
    "\n",
    "X = data.data  # 只包括样本的特征，150x4\n",
    "y = data.target  # 样本的类型，[0, 1, 2]\n",
    "features = data.feature_names  # 4个特征的名称\n",
    "targets = data.target_names  # 3类鸢尾花的名称，跟y中的3个数字对应\n",
    "\n",
    "plt.figure(figsize=(10, 4))\n",
    "plt.plot(X[:, 2][y==0], X[:, 3][y==0], 'bs', label=targets[0])\n",
    "plt.plot(X[:, 2][y==1], X[:, 3][y==1], 'kx', label=targets[1])\n",
    "plt.plot(X[:, 2][y==2], X[:, 3][y==2], 'ro', label=targets[2])\n",
    "plt.xlabel(features[2])\n",
    "plt.ylabel(features[3])\n",
    "plt.title('Iris Data Set')\n",
    "plt.legend()\n",
    "plt.tight_layout()\n",
    "# plt.savefig('Iris Data Set.png', dpi=200)\n",
    "plt.show()"
   ]
  },
  {
   "cell_type": "markdown",
   "metadata": {},
   "source": [
    "#### 1.4 降维后的可视化\n",
    "利用[t-SNE](https://scikit-learn.org/stable/modules/generated/sklearn.manifold.TSNE.html#sklearn.manifold.TSNE)降维"
   ]
  },
  {
   "cell_type": "code",
   "execution_count": 4,
   "metadata": {},
   "outputs": [
    {
     "data": {
      "text/plain": [
       "(150, 2)"
      ]
     },
     "execution_count": 4,
     "metadata": {},
     "output_type": "execute_result"
    }
   ],
   "source": [
    "from sklearn.manifold import TSNE\n",
    "\n",
    "X_embedded = TSNE(n_components=2).fit_transform(X)\n",
    "X_embedded.shape"
   ]
  },
  {
   "cell_type": "code",
   "execution_count": 5,
   "metadata": {},
   "outputs": [],
   "source": [
    "def plot_tsne(X, y, targets):\n",
    "    plt.figure(figsize=(6, 8))\n",
    "    plt.plot(X[:, 0][y==0], X[:, 1][y==0], 'bs', label=targets[0])\n",
    "    plt.plot(X[:, 0][y==1], X[:, 1][y==1], 'kx', label=targets[1])\n",
    "    plt.plot(X[:, 0][y==2], X[:, 1][y==2], 'ro', label=targets[2])\n",
    "    plt.xlabel('t-SNE1')\n",
    "    plt.ylabel('t-SNE2')\n",
    "    plt.title('Dimension reduction of Iris Data Set by t-SNE')\n",
    "    plt.legend()\n",
    "    plt.tight_layout()\n",
    "    # plt.savefig('Iris Data Set.png', dpi=200)\n",
    "    plt.show()"
   ]
  },
  {
   "cell_type": "code",
   "execution_count": 6,
   "metadata": {},
   "outputs": [
    {
     "data": {
      "image/png": "[encoded data removed]",
      "text/plain": [
       "<Figure size 432x576 with 1 Axes>"
      ]
     },
     "metadata": {},
     "output_type": "display_data"
    }
   ],
   "source": [
    "plot_tsne(X=X_embedded, y=y, targets=targets)"
   ]
  },
  {
   "cell_type": "markdown",
   "metadata": {},
   "source": [
    "### 2. 线性回归\n",
    "回归分析是一类基于预测变量 (predictor variables)(a.k.a 解释变量（explanatory variables）、自变量 (independent variables)或回归量 (regressors))来预测一个或多个响应变量 (response variable)(a.k.a 因变量(dependent variable)、被解释变量 (explained variable)或回归应变量 (regressand) ) 的统计方法。\n",
    "\n",
    "之所以称该方法为线性模型，是因为该模型的基本假设为：因变量是由所有自变量的线性组合构成的。"
   ]
  },
  {
   "cell_type": "markdown",
   "metadata": {},
   "source": [
    "#### 2.1 基本形式\n",
    "##### 2.1.1 简单线性回归（simple linear regression）：\n",
    "- 一个自变量，一个因变量\n",
    "\n",
    "最简单的线性回归就是直接利用一条直线拟合二维平面上的一系列点，目的是利用这条直线概括所有训练集中样本的散布规律或趋势，最终用于新样本点的预测。\n",
    "\n",
    "二维平面上直线方程的一般形式为$y=ax+b$，使用训练集中的数据以某种方式训练该模型后，就可以确定方程中的两个参数$a,b$的最优值。后面如果观察到了新的样本$x_i$，就可以带入上面学习到的公式计算$y$的值。"
   ]
  },
  {
   "cell_type": "markdown",
   "metadata": {},
   "source": [
    "##### 2.1.2 多重线性回归（multiple linear regression）：\n",
    "- 多个自变量，一个因变量，例如预测房价\n",
    "\n",
    "多重线性总体回归模型假设的基本形式：\n",
    "\n",
    "$$\\hat{y} = h_{\\theta}(x) = \\theta_0 + \\theta_1x_1 + \\cdots + \\theta_nx_n + e \\quad \\cdots \\ (2-1)$$\n",
    "\n",
    "- 其中，$\\hat{y}$表示线性回归模型的预测值（相对于真实观察值）;\n",
    "- $n$表示特征（自变量）的个数;\n",
    "- $x_i$表示第$i$个特征的观察值;\n",
    "- $\\theta_j$表示第$j$个参数的值.\n",
    "- $e$表示随机误差项，一般假设$e \\sim (0, \\sigma^2)$\n",
    "\n",
    "如果模型包括$n$个特征，那么就会包括$n+1$个参数，还包括常数项（还被称为截距）。\n",
    "\n",
    "当我们对总体进行随机抽样时，假设有$m$个个体，每个个体有模型：\n",
    "$$\\hat{y}^{(i)} = h_{\\theta}(x^{(i)}) = \\theta_0 + \\theta_1x_1^{(i)} + \\cdots + \\theta_nx_n^{(i)} + e \\quad \\cdots \\ (2-2)$$\n",
    "表示成矩阵形式有：\n",
    "$$\\begin{pmatrix} y^{(1)} \\\\ y^{(2)} \\\\ \\vdots \\\\ y^{(m)} \\end{pmatrix} = \n",
    "\\begin{pmatrix} 1 \\ x_1^{(1)} \\cdots x_n^{(1)} \\\\ 1 \\ x_1^{(2)} \\cdots x_n^{(2)}  \\\\ \\vdots \\\\ 1 \\ x_1^{(m)} \\cdots x_n^{(m)} \\end{pmatrix} \\theta + \n",
    "\\begin{pmatrix} e^{(1)} \\\\ e^{(2)} \\\\ \\vdots \\\\ e^{(m)} \\end{pmatrix} \n",
    "<=> Y_{m \\times 1} = X_{m \\times n}\\theta + \\epsilon \\quad \\cdots \\\n",
    "(2-3)$$\n",
    "\n",
    "- $X$是$m \\times (n+1)$的矩阵，其中$m$表示样本的数量;\n",
    "- $\\theta$是包含所有参数的列向量，长度为$n+1$.\n",
    "\n",
    "其中，$y^{(i)},x_1^{(i)}, \\cdots, x_n^{(i)}$表示对总体变量$y,x_1, \\cdots, x_n$的独立重复观测。"
   ]
  },
  {
   "cell_type": "markdown",
   "metadata": {},
   "source": [
    "##### 2.1.3 多元线性回归（multivariate linear regression）：\n",
    "- 多个自变量，多个因变量\n",
    "\n",
    "设有$p$个响应变量，$Y_1, \\cdots, Y_p$；$n$个解释变量，$x_1, \\cdots, x_n$,考虑解释变量与响应变量之间的关系, 假设有如下总体回归模型:\n",
    "$$\\begin{array} \\\\\n",
    "Y_1 = \\theta_{01} + \\theta_{11}x_1 + \\cdots + \\theta_{n1}x_n + e_1 \\\\\n",
    "Y_2 = \\theta_{02} + \\theta_{12}x_1 + \\cdots + \\theta_{n2}x_n + e_2 \\\\\n",
    "\\vdots \\\\\n",
    "Y_p = \\theta_{0p} + \\theta_{1p}x_1 + \\cdots + \\theta_{np}x_n + e_p \\end{array}\n",
    "\\quad \\cdots \\ (2-4)\n",
    "$$\n",
    "也就是假设每一个响应变量$Y_i$和解释变量之间存在线性关系。误差项服从均值为0的正态分布。\n",
    "\n",
    "当对总体中$m$个个体进行观测时，即第$i$次观测样本的解释变量为$x_1^{(i)}, x_2^{(i)}, \\cdots, x_n^{(i)}$，响应变量记为$y^{(i)} = y_1^{(i)}, y_2^{(i)}, \\cdots, y_p^{(i)}$. 使用矩阵表示：\n",
    "$$\n",
    "Y_{m \\times p} = \\begin{pmatrix} y_1^{(1)} \\ y_2^{(1)} \\cdots y_p^{(1)} \\\\ y_1^{(2)} \\ y_2^{(2)} \\cdots y_p^{(2)}  \\\\ \\vdots \\\\ y_1^{(m)} \\ y_2^{(m)} \\cdots y_p^{(m)} \\end{pmatrix}\n",
    "$$\n",
    "\n",
    "$$\n",
    "X_{m \\times (n+1)} = \\begin{pmatrix} x_0^{(1)} \\ x_1^{(1)} \\cdots x_n^{(1)} \\\\ x_0^{(2)} \\ x_1^{(2)} \\cdots x_n^{(2)}  \\\\ \\vdots \\\\ x_0^{(m)} \\ x_1^{(m)} \\cdots x_n^{(m)} \\end{pmatrix} \\quad \\cdots \\ (2-5)\n",
    "$$\n",
    "其中$x_0^{(i)}\\equiv 0, i \\in \\{1, \\cdots, m\\}$\n",
    "\n",
    "参数矩阵记为：\n",
    "$$\n",
    "\\theta_{(n+1) \\times p} = \\begin{pmatrix} \\theta_{01} + \\theta_{02} + \\cdots + \\theta_{0p} \\\\\n",
    " \\theta_{11} + \\theta_{12} + \\cdots + \\theta_{1p} \\\\\n",
    " \\vdots \\\\\n",
    " \\theta_{n1} + \\theta_{n2} + \\cdots + \\theta_{np} \\end{pmatrix} = \n",
    " [\\theta_{(1)}, \\theta_{(2)}, \\cdots, \\theta_{(p)}]\n",
    " \\quad \\cdots \\ (2-6)\n",
    "$$\n",
    "从而，多元线性回归模型的矩阵表示为：\n",
    "$$\\begin{array}{l}\n",
    "Y_{m \\times p} = X_{m \\times (n+1)} \\theta_{(n+1) \\times p} + \\epsilon_{m \\times p}\\\\\n",
    "= [X \\cdot \\theta_{(1)}, \\cdots, X \\cdot \\theta_{(p)}] + [\\epsilon_{(1)}, \\cdots, \\epsilon_{(p)}] \\end{array}\n",
    "\\quad \\cdots \\ (2-7)\n",
    "$$"
   ]
  },
  {
   "cell_type": "markdown",
   "metadata": {},
   "source": [
    "#### 2.2 线性回归的代价函数\n",
    "代价函数量化了模型预测值与实际观察值之间的误差大小。有了代价函数就可以评价取当前参数时模型性能的好坏。\n",
    "\n",
    "在选择一个恰当的代价函数后，整个模型的训练过程就是求代价函数最小值的过程。这个过程并不容易，可能会出现下面两种情况：\n",
    "\n",
    "- 得到全局最优解：即代价函数的最小值；\n",
    "- 得到局部最优解：由于很多原因我们可能仅仅只能求的代价函数在某个区间内的极小值.\n",
    "\n",
    "如果代价函数是一个凸函数（convex function），那么从数学上可以保证肯定能求得全局最优解；如果代价函数是非凸函数，就无法从理论上保证最终能得到代价函数的全局最优解（NP-hard问题）。\n",
    "\n",
    "对于线性回归算法，比较常用的代价函数是均方误差(Mean Square Error, MSE)函数：\n",
    "$$J(\\theta) = MSE(X, h_{\\theta}) = \\frac{1}{2m}\\sum_{i=1}^{m}{(\\hat{y}^{(i)} - y^{(i)})^2} = \\frac{1}{2m}\\sum_{i=1}^{m}{(\\theta^T \\cdot x^{(i)} - y^{(i)})^2} \\quad \\cdots \\ (2-3)$$\n",
    "\n",
    "- 上式表示所有模型的预测值与实际观察值之差的平方和，因此训练集中任何一个实际观察值与模型预测值之间的误差都包含在了这个公式中；\n",
    "- 为了求导方便，添加了一个系数$\\frac{1}{2}$，实际的MSE的定义中是没有的；\n",
    "- 该函数是一个凸函数.\n",
    "\n",
    "<img src=\"./fig/Fig1.jpg\" style=\"height: 400px;\"/>\n",
    "\n",
    "- 均方误差就是上图中绿色线段长度平方和的均值"
   ]
  },
  {
   "cell_type": "markdown",
   "metadata": {},
   "source": [
    "### 3. 利用梯度下降优化参数\n",
    "- 梯度下降的一般步骤\n",
    "1. 参数的初始化：通常所有参数都初始化为1；\n",
    "2. 确定学习率；\n",
    "3. 求代价函数的梯度（所有参数的偏导数）；\n",
    "4. 所有参数都沿梯度方向移动一步，步长就是学习率的大小；\n",
    "5. 重复步骤4直到参数不再发生变化（此时取到极值点，梯度为0）或达到预先设定的迭代次数.\n",
    "\n",
    "<img src='./fig/cost_function_decreasing.gif' style=\"height: 200px;\" />\n",
    "\n",
    "图片来源：https://towardsdatascience.com/neural-networks-with-numpy-for-absolute-beginners-part-2-linear-regression-e53c0c7dea3a"
   ]
  },
  {
   "cell_type": "markdown",
   "metadata": {},
   "source": [
    "#### 3.1 学习率\n",
    "学习率一般用希腊字母$\\alpha$表示，可能需要多次尝试，才能找到合适的学习率。过大的学习率会导致梯度下降时越过代价函数的最小值点，随着训练步数的增加，代价函数不减反增；如果学习率太小，训练中的每一步参数的变化会非常小，这时可以看到代价函数的值在不断减小，但是需要非常大的迭代次数才能到达代价函数的最小值点。\n",
    "\n",
    "按照吴恩达老师的建议，每次可以3倍放大或者3倍缩小来调整，直到找到合适的学习率。\n",
    "<img src='./fig/Fig2.png' style=\"height: 200px;\" />"
   ]
  },
  {
   "cell_type": "markdown",
   "metadata": {},
   "source": [
    "#### 3.2 代价函数的梯度\n",
    "在机器学习中，对代价函数包含的每一个参数求偏导数，这些偏导数组成的向量就是代价函数的梯度。\n",
    "\n",
    "- 均方误差函数的梯度\n",
    "\n",
    "为了简单起见，先考虑只有一个特征的直线方程：$h_{(\\theta)} = \\theta_0 + \\theta_1x_1$\n",
    "\n",
    "令$x_0=1$，则可得$h_{(\\theta)} = \\theta_0x_0 + \\theta_1x_1$\n",
    "参考MSE的公式，见式子(2-3)，可得，\n",
    "- $J(\\theta)$对$\\theta_0$的偏导数：\n",
    "$$\\frac{\\partial}{\\partial \\theta_0} J(\\theta) = \\frac{1}{m} \\sum_{i=1}^{m}{[(h_{\\theta}(x^{(i)}) - y^{(i)}) \\cdot x_0^{(i)}]} \\quad \\cdots \\ (3-1)$$\n",
    "\n",
    "- $J(\\theta)$对$\\theta_1$的偏导数：\n",
    "$$\\frac{\\partial}{\\partial \\theta_1} J(\\theta) = \\frac{1}{m} \\sum_{i=1}^{m}{[(h_{\\theta}(x^{(i)}) - y^{(i)}) \\cdot x_1^{(i)}]} \\quad \\cdots \\ (3-2)$$\n",
    "\n",
    "其中$m$表示样本数量；$y_i$表示第$i$个样本的观察值；$x_1^{(i)}$表示第$i$个样本的第1个特征的观察值；式子中的点号$\\cdot$表示普通乘法。\n",
    "\n",
    "<img src='./fig/Fig3.png' style=\"height: 400px;\" />"
   ]
  },
  {
   "cell_type": "markdown",
   "metadata": {},
   "source": [
    "#### 3.3 梯度的向量化表示\n",
    "上面的方法显得有点繁琐，在代码中对两个参数分别求偏导数，并且分别更新它们的值，假如有100个参数，就要重复100次几乎相同的步骤。\n",
    "因此这样的代码，可扩展性非常差。下面我们使用梯度和向量化的方式来重写梯度下降的实现过程。\n",
    "通过比较两个参数的偏导数，即式子(3-1)和(3-2)，不难发现它们非常相似，如果把这些式子统一起来，所有参数的偏导数可以写成下面的样子：\n",
    "$$\\nabla_{\\theta}MSE(\\theta) = \n",
    "\\begin{pmatrix} \\frac{\\partial}{\\partial \\theta_0} J(\\theta) \\\\\\frac{\\partial}{\\partial \\theta_1} J(\\theta) \\\\ \\vdots \\\\ \\frac{\\partial}{\\partial \\theta_n} J(\\theta) \\end{pmatrix}\n",
    "= \\begin{pmatrix} \\frac{1}{m} \\sum_{i=1}^{m}{(\\theta^T \\cdot x^{(i)} - y^{(i)}) x^{(i)}_0} \\\\ \\frac{1}{m} \\sum_{i=1}^{m}{(\\theta^T \\cdot x^{(i)} - y^{(i)}) x^{(i)}_1} \\\\ \\vdots \\\\ \\frac{1}{m} \\sum_{i=1}^{m}{(\\theta^T \\cdot x^{(i)} - y^{(i)}) x^{(i)}_n} \\end{pmatrix} \n",
    "= \\frac{1}{m} \\begin{pmatrix} x_0^T \\cdot e \\\\ \n",
    "x_1^T \\cdot e \\\\ \\vdots \\\\ x_n^T \\cdot e \\end{pmatrix} = \\frac{1}{m} X^T \\cdot e \\quad \\cdots \\ \n",
    "(3-3)$$\n",
    "\n",
    "上面式子中的倒三角是梯度的表示符号，其中，$x_n^T$表示所有样本第$n$个特征组成的向量的转置；\n",
    "- $e = \\hat{h} - y = (X \\cdot \\theta - y)$表示所有样本的误差；\n",
    "- $\\cdot$表示向量的点积（结果为一个标量）或矩阵乘法（结果为一个矩阵）。\n",
    "通过该式的表示，就把所有参数的偏导数表示成了一个式子。参数更新的过程就可以表示如下：\n",
    "$$\\theta = \\theta - \\alpha\\nabla_{\\theta}MSE(\\theta) \\quad \\cdots \\ (3-4)$$"
   ]
  },
  {
   "cell_type": "markdown",
   "metadata": {},
   "source": [
    "### 4. 梯度下降的实现\n",
    "#### 4.1 示例1：利用花瓣的长度预测花瓣的宽度（利用偏导数逐个更新参数）\n",
    "\n",
    "下面不再考虑不同鸢尾花的类型，而是使用花瓣的长度（相当于自变量x）来预测花瓣的宽度（相当于因变量y）。\n",
    "\n",
    "下图中从所有150个样本中，随机取出了80%作为训练集："
   ]
  },
  {
   "cell_type": "code",
   "execution_count": 7,
   "metadata": {},
   "outputs": [
    {
     "data": {
      "text/plain": [
       "((120, 1), (120, 1))"
      ]
     },
     "execution_count": 7,
     "metadata": {},
     "output_type": "execute_result"
    }
   ],
   "source": [
    "from sklearn.model_selection import train_test_split\n",
    "import numpy as np\n",
    "\n",
    "# 分出一部分数据做测试集\n",
    "X_train, X_test, y_train, y_test  = train_test_split(X, y, test_size=0.2, random_state=42)\n",
    "X_reg = X_train[:, 2].reshape(-1, 1)  # 花瓣长度\n",
    "y_reg = X_train[:, 3].reshape(-1, 1)  # 花瓣宽度\n",
    "X_reg.shape, y_reg.shape"
   ]
  },
  {
   "cell_type": "code",
   "execution_count": 8,
   "metadata": {},
   "outputs": [
    {
     "data": {
      "image/png": "[encoded data removed]",
      "text/plain": [
       "<Figure size 648x288 with 1 Axes>"
      ]
     },
     "metadata": {},
     "output_type": "display_data"
    }
   ],
   "source": [
    "plt.figure(figsize=(9, 4))  # width, height in inches\n",
    "n_set_plt = plt.scatter(X_reg, y_reg, c='b', label='training data')\n",
    "plt.xlabel(features[2])\n",
    "plt.ylabel(features[3])\n",
    "plt.title('Iris Data Set')\n",
    "plt.legend(loc=\"upper left\")\n",
    "# plt.savefig('04_2_linear_svr1.png', dpi=200)\n",
    "plt.show()"
   ]
  },
  {
   "cell_type": "code",
   "execution_count": 9,
   "metadata": {},
   "outputs": [],
   "source": [
    "# 计算代价函数\n",
    "def L_theta(theta, X_x0, y):\n",
    "    delta = np.dot(X_x0, theta) - y  # np.dot 表示矩阵乘法\n",
    "    L_theta = np.sum(np.multiply(delta, delta))\n",
    "    return L_theta\n",
    "\n",
    "def train_theta(x, y, T, theta, alpha):\n",
    "    m = x.shape[0]\n",
    "#     print(m)\n",
    "    X_x0 = np.c_[np.ones((m, 1)), x]  # ADD X0 = 1 to each instance\n",
    "    \n",
    "    for i in range(T):\n",
    "        theta_0 = theta[0, 0]\n",
    "        theta_1 = theta[1, 0]\n",
    "        h = np.dot(X_x0, theta)\n",
    "        theta_0 -= alpha*(1/m * np.sum(h - y))  # 公式(3-1)\n",
    "        theta_1 -= alpha*(1/m * np.sum(np.dot(np.transpose(x), h - y)))  # 公式(3-2)\n",
    "        theta[0, 0] = theta_0\n",
    "        theta[1, 0] = theta_1\n",
    "        if i%100==0:\n",
    "            print(L_theta(theta, X_x0, y))\n",
    "    return theta"
   ]
  },
  {
   "cell_type": "code",
   "execution_count": 10,
   "metadata": {},
   "outputs": [
    {
     "name": "stdout",
     "output_type": "stream",
     "text": [
      "40.73951001849945\n",
      "8.59711531423332\n",
      "5.407923187864959\n",
      "5.0046746553374835\n",
      "4.95368701566501\n",
      "4.947240025311254\n",
      "4.946424853538482\n",
      "4.946321781409833\n",
      "4.946308748741066\n",
      "4.946307100861493\n"
     ]
    }
   ],
   "source": [
    "T = 1000  # 迭代次数\n",
    "theta = np.ones((2, 1))  # 参数的初始化\n",
    "alpha = 0.06  # 学习率\n",
    "\n",
    "trained_theta = train_theta(x=X_reg, y=y_reg, T=T, theta=theta, alpha=alpha)"
   ]
  },
  {
   "cell_type": "code",
   "execution_count": 11,
   "metadata": {},
   "outputs": [
    {
     "data": {
      "text/plain": [
       "array([[-0.35663028],\n",
       "       [ 0.4132299 ]])"
      ]
     },
     "execution_count": 11,
     "metadata": {},
     "output_type": "execute_result"
    }
   ],
   "source": [
    "trained_theta"
   ]
  },
  {
   "cell_type": "code",
   "execution_count": 12,
   "metadata": {},
   "outputs": [
    {
     "data": {
      "image/png": "[encoded data removed]",
      "text/plain": [
       "<Figure size 648x288 with 1 Axes>"
      ]
     },
     "metadata": {},
     "output_type": "display_data"
    }
   ],
   "source": [
    "lw = 2\n",
    "m = X_reg.shape[0]\n",
    "y_pred = np.dot(np.c_[np.ones((m, 1)), X_reg], trained_theta)\n",
    "plt.figure(figsize=(9, 4))  # width, height in inches\n",
    "plt.scatter(X_reg, y_reg, color='b', label='training data')\n",
    "plt.plot(X_reg, y_pred, color='k', lw=lw, label='regression line')\n",
    "plt.xlabel(r\"$x = {}$\".format(features[2]), fontsize=12)\n",
    "plt.ylabel(r\"$y = {}$\".format(features[3]), fontsize=12, rotation=90)  # 可以设置旋转角度\n",
    "plt.title('Iris Data Set - Linear SVR')\n",
    "plt.legend()\n",
    "# plt.savefig('04_2_linear_svr2.png', dpi=200)\n",
    "plt.show()"
   ]
  },
  {
   "cell_type": "markdown",
   "metadata": {},
   "source": [
    "#### 4.2 示例2：利用花瓣的长度预测花瓣的宽度(利用梯度更新参数)"
   ]
  },
  {
   "cell_type": "code",
   "execution_count": 13,
   "metadata": {},
   "outputs": [],
   "source": [
    "def train_theta_new(x, y, T, theta, alpha):\n",
    "    m = x.shape[0]\n",
    "#     print(m)\n",
    "    X_x0 = np.c_[np.ones((m, 1)), x]  # ADD X0 = 1 to each instance\n",
    "    \n",
    "    for i in range(T):\n",
    "        h = np.dot(X_x0, theta)\n",
    "        theta -= alpha * 1/m * np.dot(X_x0.T, h - y)\n",
    "        if i%100==0:\n",
    "            print(L_theta(theta, X_x0, y))\n",
    "    return theta"
   ]
  },
  {
   "cell_type": "code",
   "execution_count": 14,
   "metadata": {},
   "outputs": [
    {
     "name": "stdout",
     "output_type": "stream",
     "text": [
      "53.996318054513395\n",
      "10.125038065935176\n",
      "5.871956200667649\n",
      "5.1117579475314106\n",
      "4.975879682692263\n",
      "4.951592724942061\n",
      "4.9472516604056676\n",
      "4.946475736080234\n",
      "4.946337046928356\n",
      "4.946312257551071\n"
     ]
    },
    {
     "data": {
      "text/plain": [
       "array([[-0.35645487],\n",
       "       [ 0.4131909 ]])"
      ]
     },
     "execution_count": 14,
     "metadata": {},
     "output_type": "execute_result"
    }
   ],
   "source": [
    "T = 1000  # 迭代次数\n",
    "theta = np.ones((2, 1))  # 参数的初始化\n",
    "alpha = 0.05  # 学习率\n",
    "\n",
    "trained_theta_new = train_theta_new(x=X_reg, y=y_reg, T=T, theta=theta, alpha=alpha)\n",
    "trained_theta_new"
   ]
  },
  {
   "cell_type": "markdown",
   "metadata": {},
   "source": [
    "#### 4.3 示例3：利用花瓣的长度预测花瓣的宽度(使用scikit-learn工具包)"
   ]
  },
  {
   "cell_type": "code",
   "execution_count": 15,
   "metadata": {},
   "outputs": [
    {
     "name": "stdout",
     "output_type": "stream",
     "text": [
      "[-0.35666804] [[0.41323829]]\n"
     ]
    }
   ],
   "source": [
    "from sklearn.linear_model import LinearRegression\n",
    "lin_reg = LinearRegression()\n",
    "lin_reg.fit(X_reg, y_reg)\n",
    "print(lin_reg.intercept_, lin_reg.coef_)"
   ]
  },
  {
   "cell_type": "markdown",
   "metadata": {},
   "source": [
    "### references"
   ]
  },
  {
   "cell_type": "markdown",
   "metadata": {},
   "source": [
    "- http://scikit-learn.org/stable/modules/linear_model.html\n",
    "- Géron A. Hands-on machine learning with Scikit-Learn and TensorFlow: concepts, tools, and techniques to build intelligent systems[M]. \" O'Reilly Media, Inc.\", 2017. github\n",
    "- https://www.hatarilabs.com/ih-en/how-to-calculate-the-root-mean-square-error-rmse-of-an-interpolated-ph-raster\n",
    "- https://medium.com/@qempsil0914/machine-learning-notes-week2-multivariate-linear-regression-mse-gradient-descent-normal-e15785f771bd\n",
    "- https://link.springer.com/article/10.1007/s13244-018-0639-9/figures/7\n",
    "- https://scikit-learn.org/stable/modules/generated/sklearn.manifold.TSNE.html#sklearn.manifold.TSNE\n",
    "- https://en.wikipedia.org/wiki/Linear_regression\n",
    "- http://staff.ustc.edu.cn/~zwp/teach/MVA/Lec9_slides.pdf"
   ]
  },
  {
   "cell_type": "code",
   "execution_count": null,
   "metadata": {},
   "outputs": [],
   "source": []
  }
 ],
 "metadata": {
  "kernelspec": {
   "display_name": "Python 3.6.9 64-bit",
   "language": "python",
   "name": "python_defaultSpec_1594384498185"
  },
  "language_info": {
   "codemirror_mode": {
    "name": "ipython",
    "version": 3
   },
   "file_extension": ".py",
   "mimetype": "text/x-python",
   "name": "python",
   "nbconvert_exporter": "python",
   "pygments_lexer": "ipython3",
   "version": "3.6.9-final"
  }
 },
 "nbformat": 4,
 "nbformat_minor": 4
}